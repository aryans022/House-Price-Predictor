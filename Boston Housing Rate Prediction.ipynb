{
 "cells": [
  {
   "cell_type": "code",
   "execution_count": 1,
   "metadata": {},
   "outputs": [
    {
     "name": "stderr",
     "output_type": "stream",
     "text": [
      "Using TensorFlow backend.\n",
      "C:\\Users\\Aryan\\anaconda3\\lib\\site-packages\\tensorflow\\python\\framework\\dtypes.py:516: FutureWarning: Passing (type, 1) or '1type' as a synonym of type is deprecated; in a future version of numpy, it will be understood as (type, (1,)) / '(1,)type'.\n",
      "  _np_qint8 = np.dtype([(\"qint8\", np.int8, 1)])\n",
      "C:\\Users\\Aryan\\anaconda3\\lib\\site-packages\\tensorflow\\python\\framework\\dtypes.py:517: FutureWarning: Passing (type, 1) or '1type' as a synonym of type is deprecated; in a future version of numpy, it will be understood as (type, (1,)) / '(1,)type'.\n",
      "  _np_quint8 = np.dtype([(\"quint8\", np.uint8, 1)])\n",
      "C:\\Users\\Aryan\\anaconda3\\lib\\site-packages\\tensorflow\\python\\framework\\dtypes.py:518: FutureWarning: Passing (type, 1) or '1type' as a synonym of type is deprecated; in a future version of numpy, it will be understood as (type, (1,)) / '(1,)type'.\n",
      "  _np_qint16 = np.dtype([(\"qint16\", np.int16, 1)])\n",
      "C:\\Users\\Aryan\\anaconda3\\lib\\site-packages\\tensorflow\\python\\framework\\dtypes.py:519: FutureWarning: Passing (type, 1) or '1type' as a synonym of type is deprecated; in a future version of numpy, it will be understood as (type, (1,)) / '(1,)type'.\n",
      "  _np_quint16 = np.dtype([(\"quint16\", np.uint16, 1)])\n",
      "C:\\Users\\Aryan\\anaconda3\\lib\\site-packages\\tensorflow\\python\\framework\\dtypes.py:520: FutureWarning: Passing (type, 1) or '1type' as a synonym of type is deprecated; in a future version of numpy, it will be understood as (type, (1,)) / '(1,)type'.\n",
      "  _np_qint32 = np.dtype([(\"qint32\", np.int32, 1)])\n",
      "C:\\Users\\Aryan\\anaconda3\\lib\\site-packages\\tensorflow\\python\\framework\\dtypes.py:525: FutureWarning: Passing (type, 1) or '1type' as a synonym of type is deprecated; in a future version of numpy, it will be understood as (type, (1,)) / '(1,)type'.\n",
      "  np_resource = np.dtype([(\"resource\", np.ubyte, 1)])\n",
      "C:\\Users\\Aryan\\anaconda3\\lib\\site-packages\\tensorboard\\compat\\tensorflow_stub\\dtypes.py:541: FutureWarning: Passing (type, 1) or '1type' as a synonym of type is deprecated; in a future version of numpy, it will be understood as (type, (1,)) / '(1,)type'.\n",
      "  _np_qint8 = np.dtype([(\"qint8\", np.int8, 1)])\n",
      "C:\\Users\\Aryan\\anaconda3\\lib\\site-packages\\tensorboard\\compat\\tensorflow_stub\\dtypes.py:542: FutureWarning: Passing (type, 1) or '1type' as a synonym of type is deprecated; in a future version of numpy, it will be understood as (type, (1,)) / '(1,)type'.\n",
      "  _np_quint8 = np.dtype([(\"quint8\", np.uint8, 1)])\n",
      "C:\\Users\\Aryan\\anaconda3\\lib\\site-packages\\tensorboard\\compat\\tensorflow_stub\\dtypes.py:543: FutureWarning: Passing (type, 1) or '1type' as a synonym of type is deprecated; in a future version of numpy, it will be understood as (type, (1,)) / '(1,)type'.\n",
      "  _np_qint16 = np.dtype([(\"qint16\", np.int16, 1)])\n",
      "C:\\Users\\Aryan\\anaconda3\\lib\\site-packages\\tensorboard\\compat\\tensorflow_stub\\dtypes.py:544: FutureWarning: Passing (type, 1) or '1type' as a synonym of type is deprecated; in a future version of numpy, it will be understood as (type, (1,)) / '(1,)type'.\n",
      "  _np_quint16 = np.dtype([(\"quint16\", np.uint16, 1)])\n",
      "C:\\Users\\Aryan\\anaconda3\\lib\\site-packages\\tensorboard\\compat\\tensorflow_stub\\dtypes.py:545: FutureWarning: Passing (type, 1) or '1type' as a synonym of type is deprecated; in a future version of numpy, it will be understood as (type, (1,)) / '(1,)type'.\n",
      "  _np_qint32 = np.dtype([(\"qint32\", np.int32, 1)])\n",
      "C:\\Users\\Aryan\\anaconda3\\lib\\site-packages\\tensorboard\\compat\\tensorflow_stub\\dtypes.py:550: FutureWarning: Passing (type, 1) or '1type' as a synonym of type is deprecated; in a future version of numpy, it will be understood as (type, (1,)) / '(1,)type'.\n",
      "  np_resource = np.dtype([(\"resource\", np.ubyte, 1)])\n"
     ]
    }
   ],
   "source": [
    "from keras.datasets import boston_housing"
   ]
  },
  {
   "cell_type": "code",
   "execution_count": 2,
   "metadata": {},
   "outputs": [],
   "source": [
    "(training_data, training_targets), (test_data, test_targets) = boston_housing.load_data()"
   ]
  },
  {
   "cell_type": "code",
   "execution_count": 3,
   "metadata": {},
   "outputs": [],
   "source": [
    "mean = training_data.mean(axis = 0)\n",
    "training_data -= mean\n",
    "std = training_data.std(axis = 0)\n",
    "training_data /= std\n",
    "\n",
    "test_data -= mean\n",
    "test_data/= std"
   ]
  },
  {
   "cell_type": "code",
   "execution_count": 4,
   "metadata": {},
   "outputs": [],
   "source": [
    "from keras import models\n",
    "from keras import layers\n",
    "\n",
    "def build_model():\n",
    "    \n",
    "    model = models.Sequential()\n",
    "    \n",
    "    model.add(layers.Dense(64, activation = \"relu\", input_shape = (training_data.shape[1], )))\n",
    "    model.add(layers.Dense(64, activation = \"relu\"))\n",
    "    model.add(layers.Dense(1))\n",
    "    \n",
    "    model.compile(optimizer = \"rmsprop\", loss = \"mse\", metrics = [\"mean_absolute_error\"])\n",
    "              \n",
    "    return model"
   ]
  },
  {
   "cell_type": "code",
   "execution_count": 5,
   "metadata": {},
   "outputs": [],
   "source": [
    "import numpy as np\n",
    "\n",
    "k = 4\n",
    "num_samples = len(training_data)//4\n",
    "num_epochs = 100\n",
    "all_scores = []"
   ]
  },
  {
   "cell_type": "code",
   "execution_count": 6,
   "metadata": {},
   "outputs": [
    {
     "name": "stdout",
     "output_type": "stream",
     "text": [
      "processing fold 0\n",
      "WARNING:tensorflow:From C:\\Users\\Aryan\\anaconda3\\lib\\site-packages\\keras\\backend\\tensorflow_backend.py:422: The name tf.global_variables is deprecated. Please use tf.compat.v1.global_variables instead.\n",
      "\n",
      "processing fold 1\n",
      "processing fold 2\n",
      "processing fold 3\n"
     ]
    }
   ],
   "source": [
    "for i in range(k):\n",
    "    \n",
    "    print(\"processing fold\", i)\n",
    "    \n",
    "    val_data = training_data[i*num_samples : (i+1)*num_samples]\n",
    "    val_targets = training_targets[i*num_samples : (i+1)*num_samples]\n",
    "    \n",
    "    trn_data = np.concatenate([training_data[:i*num_samples], training_data[(i+1)*num_samples:]], axis=0)\n",
    "    trn_targets = np.concatenate([training_targets[:i*num_samples], training_targets[(i+1)*num_samples:]], axis=0)\n",
    "    \n",
    "    model = build_model()\n",
    "    model.fit(trn_data, trn_targets, epochs = num_epochs, batch_size = 1, verbose = 0)\n",
    "    \n",
    "    val_mse, val_mae = model.evaluate(val_data, val_targets, verbose=0)\n",
    "    all_scores.append(val_mae)"
   ]
  },
  {
   "cell_type": "code",
   "execution_count": 7,
   "metadata": {},
   "outputs": [
    {
     "name": "stdout",
     "output_type": "stream",
     "text": [
      "[2.189377546310425, 2.5072364807128906, 2.503275156021118, 2.542922019958496]\n",
      "2.4357028007507324\n"
     ]
    }
   ],
   "source": [
    "print(all_scores)\n",
    "print(np.mean(all_scores))"
   ]
  },
  {
   "cell_type": "code",
   "execution_count": 8,
   "metadata": {
    "scrolled": true
   },
   "outputs": [
    {
     "name": "stdout",
     "output_type": "stream",
     "text": [
      "processing fold 0\n",
      "processing fold 1\n",
      "processing fold 2\n",
      "processing fold 3\n"
     ]
    }
   ],
   "source": [
    "num_epochs = 500\n",
    "all_mae_histories = []\n",
    "\n",
    "for i in range(k):\n",
    "    \n",
    "    print(\"processing fold\", i)\n",
    "    \n",
    "    val_data = training_data[i*num_samples : (i+1)*num_samples]\n",
    "    val_targets = training_targets[i*num_samples : (i+1)*num_samples]\n",
    "    \n",
    "    trn_data = np.concatenate([training_data[:i*num_samples], training_data[(i+1)*num_samples:]], axis=0)\n",
    "    trn_targets = np.concatenate([training_targets[:i*num_samples], training_targets[(i+1)*num_samples:]], axis=0)\n",
    "    \n",
    "    model = build_model()\n",
    "    history = model.fit(trn_data, trn_targets, epochs = num_epochs, validation_data=(val_data, val_targets), batch_size = 1, verbose = 0)\n",
    "    mae_history = history.history[\"val_mean_absolute_error\"]\n",
    "    all_mae_histories.append(mae_history)"
   ]
  },
  {
   "cell_type": "code",
   "execution_count": 9,
   "metadata": {},
   "outputs": [
    {
     "data": {
      "image/png": "[encoded data removed]",
      "text/plain": [
       "<Figure size 432x288 with 1 Axes>"
      ]
     },
     "metadata": {
      "needs_background": "light"
     },
     "output_type": "display_data"
    }
   ],
   "source": [
    "import matplotlib.pyplot as plt\n",
    "\n",
    "average_mae_history = [np.mean([x[i] for x in all_mae_histories]) for i in range(num_epochs)]\n",
    "\n",
    "plt.plot(range(1, len(average_mae_history) + 1), average_mae_history)\n",
    "plt.xlabel('Epochs')\n",
    "plt.ylabel('Validation MAE')\n",
    "plt.show()"
   ]
  },
  {
   "cell_type": "code",
   "execution_count": 11,
   "metadata": {},
   "outputs": [
    {
     "data": {
      "image/png": "[encoded data removed]",
      "text/plain": [
       "<Figure size 432x288 with 1 Axes>"
      ]
     },
     "metadata": {
      "needs_background": "light"
     },
     "output_type": "display_data"
    }
   ],
   "source": [
    "def smooth_curve(points, factor = 0.9):\n",
    "    \n",
    "    smoothed_points = []\n",
    "    \n",
    "    for point in points:\n",
    "        if smoothed_points:\n",
    "            previous = smoothed_points[-1]\n",
    "            smoothed_points.append(previous * factor + point * (1 - factor))\n",
    "        else:\n",
    "            smoothed_points.append(point)\n",
    "            \n",
    "    return smoothed_points\n",
    "\n",
    "smooth_mae_history = smooth_curve(average_mae_history[10:])\n",
    "\n",
    "plt.plot(range(1, len(smooth_mae_history) + 1), smooth_mae_history)\n",
    "plt.xlabel('Epochs')\n",
    "plt.ylabel('Validation MAE')\n",
    "plt.show()"
   ]
  },
  {
   "cell_type": "code",
   "execution_count": 13,
   "metadata": {},
   "outputs": [
    {
     "name": "stdout",
     "output_type": "stream",
     "text": [
      "102/102 [==============================] - 0s 584us/step\n",
      "2.5180726051330566\n"
     ]
    }
   ],
   "source": [
    "model = build_model()\n",
    "model.fit(training_data, training_targets, epochs = 80, batch_size = 16, verbose = 0)\n",
    "\n",
    "test_mse_score, test_mae_score = model.evaluate(test_data, test_targets)\n",
    "print(test_mae_score)"
   ]
  },
  {
   "cell_type": "code",
   "execution_count": 39,
   "metadata": {},
   "outputs": [
    {
     "name": "stdout",
     "output_type": "stream",
     "text": [
      "   index    try   actual    error\n",
      "       0   7.15    7.2   -0.0\n",
      "       1  19.24   18.8    0.4\n",
      "       2  21.60   19.0    2.6\n",
      "       3  30.88   27.0    3.9\n",
      "       4  25.61   22.2    3.4\n",
      "       5  20.86   24.5   -3.6\n",
      "       6  28.39   31.2   -2.8\n",
      "       7  22.67   22.9   -0.2\n",
      "       8  19.01   20.5   -1.5\n",
      "       9  21.75   23.2   -1.5\n",
      "      10  17.21   18.6   -1.4\n",
      "      11  17.31   14.5    2.8\n",
      "      12  15.65   17.8   -2.1\n",
      "      13  43.88   50.0   -6.1\n",
      "      14  20.31   20.8   -0.5\n",
      "      15  20.96   24.3   -3.3\n",
      "      16  27.58   24.2    3.4\n",
      "      17  19.84   19.8    0.0\n",
      "      18  18.33   19.1   -0.8\n",
      "      19  27.67   22.7    5.0\n",
      "      20  10.35   12.0   -1.7\n",
      "      21  12.92   10.2    2.7\n",
      "      22  21.51   20.0    1.5\n",
      "      23  15.83   18.5   -2.7\n",
      "      24  21.09   20.9    0.2\n",
      "      25  25.85   23.0    2.9\n",
      "      26  29.57   27.5    2.1\n",
      "      27  31.40   30.1    1.3\n",
      "      28  10.70    9.5    1.2\n",
      "      29  21.81   22.0   -0.2\n",
      "      30  19.99   21.2   -1.2\n",
      "      31  14.52   14.1    0.4\n",
      "      32  33.50   33.1    0.4\n",
      "      33  25.48   23.4    2.1\n",
      "      34  17.85   20.1   -2.2\n",
      "      35   6.03    7.4   -1.4\n",
      "      36  15.70   15.4    0.3\n",
      "      37  18.06   23.8   -5.7\n",
      "      38  19.35   20.1   -0.8\n",
      "      39  26.16   24.5    1.7\n",
      "      40  31.44   33.0   -1.6\n",
      "      41  27.91   28.4   -0.5\n",
      "      42  12.73   14.1   -1.4\n",
      "      43  44.11   46.7   -2.6\n",
      "      44  30.42   32.5   -2.1\n",
      "      45  26.34   29.6   -3.3\n",
      "      46  28.65   28.4    0.3\n",
      "      47  17.27   19.8   -2.5\n",
      "      48  23.49   20.2    3.3\n",
      "      49  23.07   25.0   -1.9\n",
      "      50  36.22   35.4    0.8\n",
      "      51  19.51   20.3   -0.8\n",
      "      52  10.74    9.7    1.0\n",
      "      53  15.33   14.5    0.8\n",
      "      54  35.86   34.9    1.0\n",
      "      55  28.77   26.6    2.2\n",
      "      56  11.87    7.2    4.7\n",
      "      57  49.29   50.0   -0.7\n",
      "      58  34.28   32.4    1.9\n",
      "      59  23.82   21.6    2.2\n",
      "      60  24.94   29.8   -4.9\n",
      "      61  16.27   13.1    3.2\n",
      "      62  14.85   27.5  -12.6\n",
      "      63  19.38   21.2   -1.8\n",
      "      64  24.28   23.1    1.2\n",
      "      65  22.41   21.9    0.5\n",
      "      66  13.09   13.0    0.1\n",
      "      67  22.99   23.2   -0.2\n",
      "      68  12.83    8.1    4.7\n",
      "      69   5.33    5.6   -0.3\n",
      "      70  27.80   21.7    6.1\n",
      "      71  30.73   29.6    1.1\n",
      "      72  26.78   19.6    7.2\n",
      "      73  12.77    7.0    5.8\n",
      "      74  26.04   26.4   -0.4\n",
      "      75  17.63   18.9   -1.3\n",
      "      76  21.39   20.9    0.5\n",
      "      77  24.86   28.1   -3.2\n",
      "      78  36.45   35.4    1.1\n",
      "      79   9.78   10.2   -0.4\n",
      "      80  21.95   24.3   -2.4\n",
      "      81  38.80   43.1   -4.3\n",
      "      82  17.67   17.6    0.1\n",
      "      83  12.61   15.4   -2.8\n",
      "      84  17.48   16.2    1.3\n",
      "      85  17.30   27.1   -9.8\n",
      "      86  21.41   21.4    0.0\n",
      "      87  20.47   21.5   -1.0\n",
      "      88  21.53   22.4   -0.9\n",
      "      89  32.48   25.0    7.5\n",
      "      90  20.40   16.6    3.8\n",
      "      91  19.82   18.6    1.2\n",
      "      92  26.03   22.0    4.0\n",
      "      93  44.73   42.8    1.9\n",
      "      94  37.12   35.1    2.0\n",
      "      95  19.68   21.5   -1.8\n",
      "      96  36.20   36.0    0.2\n",
      "      97  49.43   21.9   27.5\n",
      "      98  27.65   24.1    3.6\n",
      "      99  46.30   50.0   -3.7\n",
      "     100  30.16   26.7    3.5\n",
      "     101  21.31   25.0   -3.7\n"
     ]
    }
   ],
   "source": [
    "predictions = model.predict(test_data)\n",
    "\n",
    "print(\"%8s %6s %8s %8s\" %(\"index\", \"try\", \"actual\", \"error\"))\n",
    "for x, i in enumerate(predictions):\n",
    "    for j in i:\n",
    "        print(\"%8d %6.2f %6.1f %6.1f\" %(x, j, test_targets[x], j - test_targets[x]))"
   ]
  },
  {
   "cell_type": "code",
   "execution_count": null,
   "metadata": {},
   "outputs": [],
   "source": []
  }
 ],
 "metadata": {
  "kernelspec": {
   "display_name": "Python 3",
   "language": "python",
   "name": "python3"
  },
  "language_info": {
   "codemirror_mode": {
    "name": "ipython",
    "version": 3
   },
   "file_extension": ".py",
   "mimetype": "text/x-python",
   "name": "python",
   "nbconvert_exporter": "python",
   "pygments_lexer": "ipython3",
   "version": "3.6.10"
  }
 },
 "nbformat": 4,
 "nbformat_minor": 4
}
